{
 "cells": [
  {
   "cell_type": "markdown",
   "id": "c843de96-5005-4cc6-9d83-f135357e1747",
   "metadata": {},
   "source": [
    "## **DATA ANALYSIS PYTHON PROJECT- BLINKIT ANALYSIS**"
   ]
  },
  {
   "cell_type": "markdown",
   "id": "145cd5bf-96a8-479c-99ab-e2526e66426a",
   "metadata": {},
   "source": [
    "#### **Import Libraries**"
   ]
  },
  {
   "cell_type": "code",
   "execution_count": 1,
   "id": "56ad38b8-4fcc-4056-88f9-bad4d1dd6238",
   "metadata": {},
   "outputs": [],
   "source": [
    "import pandas as pd\n",
    "import numpy as np\n",
    "import matplotlib.pyplot as plt\n",
    "import seaborn as sns"
   ]
  },
  {
   "cell_type": "markdown",
   "id": "ad2cce64-16d3-4669-830f-636a773bd14c",
   "metadata": {},
   "source": [
    "#### **Import Raw Data**"
   ]
  },
  {
   "cell_type": "code",
   "execution_count": 2,
   "id": "c6b75740-d5f1-4d94-9c6c-fcf74b84489b",
   "metadata": {},
   "outputs": [],
   "source": [
    "df = pd.read_csv(\"D:/Jason Institute/Data Analyst/Python/Projects/Python Project - Blinkit/blinkit_data.csv\")"
   ]
  },
  {
   "cell_type": "markdown",
   "id": "d1352b7d-b4ff-481c-9b2b-6cfb039b33ae",
   "metadata": {},
   "source": [
    "#### **Sample Data**"
   ]
  },
  {
   "cell_type": "code",
   "execution_count": 3,
   "id": "468e7d7b-391a-4ab9-9178-286992871f17",
   "metadata": {},
   "outputs": [
    {
     "data": {
      "text/html": [
       "<div>\n",
       "<style scoped>\n",
       "    .dataframe tbody tr th:only-of-type {\n",
       "        vertical-align: middle;\n",
       "    }\n",
       "\n",
       "    .dataframe tbody tr th {\n",
       "        vertical-align: top;\n",
       "    }\n",
       "\n",
       "    .dataframe thead th {\n",
       "        text-align: right;\n",
       "    }\n",
       "</style>\n",
       "<table border=\"1\" class=\"dataframe\">\n",
       "  <thead>\n",
       "    <tr style=\"text-align: right;\">\n",
       "      <th></th>\n",
       "      <th>Item Fat Content</th>\n",
       "      <th>Item Identifier</th>\n",
       "      <th>Item Type</th>\n",
       "      <th>Outlet Establishment Year</th>\n",
       "      <th>Outlet Identifier</th>\n",
       "      <th>Outlet Location Type</th>\n",
       "      <th>Outlet Size</th>\n",
       "      <th>Outlet Type</th>\n",
       "      <th>Item Visibility</th>\n",
       "      <th>Item Weight</th>\n",
       "      <th>Sales</th>\n",
       "      <th>Rating</th>\n",
       "    </tr>\n",
       "  </thead>\n",
       "  <tbody>\n",
       "    <tr>\n",
       "      <th>0</th>\n",
       "      <td>Regular</td>\n",
       "      <td>FDX32</td>\n",
       "      <td>Fruits and Vegetables</td>\n",
       "      <td>2012</td>\n",
       "      <td>OUT049</td>\n",
       "      <td>Tier 1</td>\n",
       "      <td>Medium</td>\n",
       "      <td>Supermarket Type1</td>\n",
       "      <td>0.100014</td>\n",
       "      <td>15.10</td>\n",
       "      <td>145.4786</td>\n",
       "      <td>5.0</td>\n",
       "    </tr>\n",
       "    <tr>\n",
       "      <th>1</th>\n",
       "      <td>Low Fat</td>\n",
       "      <td>NCB42</td>\n",
       "      <td>Health and Hygiene</td>\n",
       "      <td>2022</td>\n",
       "      <td>OUT018</td>\n",
       "      <td>Tier 3</td>\n",
       "      <td>Medium</td>\n",
       "      <td>Supermarket Type2</td>\n",
       "      <td>0.008596</td>\n",
       "      <td>11.80</td>\n",
       "      <td>115.3492</td>\n",
       "      <td>5.0</td>\n",
       "    </tr>\n",
       "    <tr>\n",
       "      <th>2</th>\n",
       "      <td>Regular</td>\n",
       "      <td>FDR28</td>\n",
       "      <td>Frozen Foods</td>\n",
       "      <td>2010</td>\n",
       "      <td>OUT046</td>\n",
       "      <td>Tier 1</td>\n",
       "      <td>Small</td>\n",
       "      <td>Supermarket Type1</td>\n",
       "      <td>0.025896</td>\n",
       "      <td>13.85</td>\n",
       "      <td>165.0210</td>\n",
       "      <td>5.0</td>\n",
       "    </tr>\n",
       "    <tr>\n",
       "      <th>3</th>\n",
       "      <td>Regular</td>\n",
       "      <td>FDL50</td>\n",
       "      <td>Canned</td>\n",
       "      <td>2000</td>\n",
       "      <td>OUT013</td>\n",
       "      <td>Tier 3</td>\n",
       "      <td>High</td>\n",
       "      <td>Supermarket Type1</td>\n",
       "      <td>0.042278</td>\n",
       "      <td>12.15</td>\n",
       "      <td>126.5046</td>\n",
       "      <td>5.0</td>\n",
       "    </tr>\n",
       "    <tr>\n",
       "      <th>4</th>\n",
       "      <td>Low Fat</td>\n",
       "      <td>DRI25</td>\n",
       "      <td>Soft Drinks</td>\n",
       "      <td>2015</td>\n",
       "      <td>OUT045</td>\n",
       "      <td>Tier 2</td>\n",
       "      <td>Small</td>\n",
       "      <td>Supermarket Type1</td>\n",
       "      <td>0.033970</td>\n",
       "      <td>19.60</td>\n",
       "      <td>55.1614</td>\n",
       "      <td>5.0</td>\n",
       "    </tr>\n",
       "    <tr>\n",
       "      <th>5</th>\n",
       "      <td>low fat</td>\n",
       "      <td>FDS52</td>\n",
       "      <td>Frozen Foods</td>\n",
       "      <td>2020</td>\n",
       "      <td>OUT017</td>\n",
       "      <td>Tier 2</td>\n",
       "      <td>Small</td>\n",
       "      <td>Supermarket Type1</td>\n",
       "      <td>0.005505</td>\n",
       "      <td>8.89</td>\n",
       "      <td>102.4016</td>\n",
       "      <td>5.0</td>\n",
       "    </tr>\n",
       "    <tr>\n",
       "      <th>6</th>\n",
       "      <td>Low Fat</td>\n",
       "      <td>NCU05</td>\n",
       "      <td>Health and Hygiene</td>\n",
       "      <td>2011</td>\n",
       "      <td>OUT010</td>\n",
       "      <td>Tier 3</td>\n",
       "      <td>Small</td>\n",
       "      <td>Grocery Store</td>\n",
       "      <td>0.098312</td>\n",
       "      <td>11.80</td>\n",
       "      <td>81.4618</td>\n",
       "      <td>5.0</td>\n",
       "    </tr>\n",
       "    <tr>\n",
       "      <th>7</th>\n",
       "      <td>Low Fat</td>\n",
       "      <td>NCD30</td>\n",
       "      <td>Household</td>\n",
       "      <td>2015</td>\n",
       "      <td>OUT045</td>\n",
       "      <td>Tier 2</td>\n",
       "      <td>Small</td>\n",
       "      <td>Supermarket Type1</td>\n",
       "      <td>0.026904</td>\n",
       "      <td>19.70</td>\n",
       "      <td>96.0726</td>\n",
       "      <td>5.0</td>\n",
       "    </tr>\n",
       "    <tr>\n",
       "      <th>8</th>\n",
       "      <td>Low Fat</td>\n",
       "      <td>FDW20</td>\n",
       "      <td>Fruits and Vegetables</td>\n",
       "      <td>2000</td>\n",
       "      <td>OUT013</td>\n",
       "      <td>Tier 3</td>\n",
       "      <td>High</td>\n",
       "      <td>Supermarket Type1</td>\n",
       "      <td>0.024129</td>\n",
       "      <td>20.75</td>\n",
       "      <td>124.1730</td>\n",
       "      <td>5.0</td>\n",
       "    </tr>\n",
       "    <tr>\n",
       "      <th>9</th>\n",
       "      <td>Low Fat</td>\n",
       "      <td>FDX25</td>\n",
       "      <td>Canned</td>\n",
       "      <td>1998</td>\n",
       "      <td>OUT027</td>\n",
       "      <td>Tier 3</td>\n",
       "      <td>Medium</td>\n",
       "      <td>Supermarket Type3</td>\n",
       "      <td>0.101562</td>\n",
       "      <td>NaN</td>\n",
       "      <td>181.9292</td>\n",
       "      <td>5.0</td>\n",
       "    </tr>\n",
       "  </tbody>\n",
       "</table>\n",
       "</div>"
      ],
      "text/plain": [
       "  Item Fat Content Item Identifier              Item Type  \\\n",
       "0          Regular           FDX32  Fruits and Vegetables   \n",
       "1          Low Fat           NCB42     Health and Hygiene   \n",
       "2          Regular           FDR28           Frozen Foods   \n",
       "3          Regular           FDL50                 Canned   \n",
       "4          Low Fat           DRI25            Soft Drinks   \n",
       "5          low fat           FDS52           Frozen Foods   \n",
       "6          Low Fat           NCU05     Health and Hygiene   \n",
       "7          Low Fat           NCD30              Household   \n",
       "8          Low Fat           FDW20  Fruits and Vegetables   \n",
       "9          Low Fat           FDX25                 Canned   \n",
       "\n",
       "   Outlet Establishment Year Outlet Identifier Outlet Location Type  \\\n",
       "0                       2012            OUT049               Tier 1   \n",
       "1                       2022            OUT018               Tier 3   \n",
       "2                       2010            OUT046               Tier 1   \n",
       "3                       2000            OUT013               Tier 3   \n",
       "4                       2015            OUT045               Tier 2   \n",
       "5                       2020            OUT017               Tier 2   \n",
       "6                       2011            OUT010               Tier 3   \n",
       "7                       2015            OUT045               Tier 2   \n",
       "8                       2000            OUT013               Tier 3   \n",
       "9                       1998            OUT027               Tier 3   \n",
       "\n",
       "  Outlet Size        Outlet Type  Item Visibility  Item Weight     Sales  \\\n",
       "0      Medium  Supermarket Type1         0.100014        15.10  145.4786   \n",
       "1      Medium  Supermarket Type2         0.008596        11.80  115.3492   \n",
       "2       Small  Supermarket Type1         0.025896        13.85  165.0210   \n",
       "3        High  Supermarket Type1         0.042278        12.15  126.5046   \n",
       "4       Small  Supermarket Type1         0.033970        19.60   55.1614   \n",
       "5       Small  Supermarket Type1         0.005505         8.89  102.4016   \n",
       "6       Small      Grocery Store         0.098312        11.80   81.4618   \n",
       "7       Small  Supermarket Type1         0.026904        19.70   96.0726   \n",
       "8        High  Supermarket Type1         0.024129        20.75  124.1730   \n",
       "9      Medium  Supermarket Type3         0.101562          NaN  181.9292   \n",
       "\n",
       "   Rating  \n",
       "0     5.0  \n",
       "1     5.0  \n",
       "2     5.0  \n",
       "3     5.0  \n",
       "4     5.0  \n",
       "5     5.0  \n",
       "6     5.0  \n",
       "7     5.0  \n",
       "8     5.0  \n",
       "9     5.0  "
      ]
     },
     "execution_count": 3,
     "metadata": {},
     "output_type": "execute_result"
    }
   ],
   "source": [
    "df.head(10)"
   ]
  },
  {
   "cell_type": "code",
   "execution_count": 4,
   "id": "245f8bdd-2e9b-4d16-b76b-5cb62936b144",
   "metadata": {},
   "outputs": [
    {
     "data": {
      "text/html": [
       "<div>\n",
       "<style scoped>\n",
       "    .dataframe tbody tr th:only-of-type {\n",
       "        vertical-align: middle;\n",
       "    }\n",
       "\n",
       "    .dataframe tbody tr th {\n",
       "        vertical-align: top;\n",
       "    }\n",
       "\n",
       "    .dataframe thead th {\n",
       "        text-align: right;\n",
       "    }\n",
       "</style>\n",
       "<table border=\"1\" class=\"dataframe\">\n",
       "  <thead>\n",
       "    <tr style=\"text-align: right;\">\n",
       "      <th></th>\n",
       "      <th>Item Fat Content</th>\n",
       "      <th>Item Identifier</th>\n",
       "      <th>Item Type</th>\n",
       "      <th>Outlet Establishment Year</th>\n",
       "      <th>Outlet Identifier</th>\n",
       "      <th>Outlet Location Type</th>\n",
       "      <th>Outlet Size</th>\n",
       "      <th>Outlet Type</th>\n",
       "      <th>Item Visibility</th>\n",
       "      <th>Item Weight</th>\n",
       "      <th>Sales</th>\n",
       "      <th>Rating</th>\n",
       "    </tr>\n",
       "  </thead>\n",
       "  <tbody>\n",
       "    <tr>\n",
       "      <th>8503</th>\n",
       "      <td>Regular</td>\n",
       "      <td>FDR22</td>\n",
       "      <td>Snack Foods</td>\n",
       "      <td>1998</td>\n",
       "      <td>OUT027</td>\n",
       "      <td>Tier 3</td>\n",
       "      <td>Medium</td>\n",
       "      <td>Supermarket Type3</td>\n",
       "      <td>0.018473</td>\n",
       "      <td>NaN</td>\n",
       "      <td>109.9544</td>\n",
       "      <td>4.0</td>\n",
       "    </tr>\n",
       "    <tr>\n",
       "      <th>8504</th>\n",
       "      <td>Regular</td>\n",
       "      <td>FDS09</td>\n",
       "      <td>Snack Foods</td>\n",
       "      <td>1998</td>\n",
       "      <td>OUT027</td>\n",
       "      <td>Tier 3</td>\n",
       "      <td>Medium</td>\n",
       "      <td>Supermarket Type3</td>\n",
       "      <td>0.080696</td>\n",
       "      <td>NaN</td>\n",
       "      <td>51.3008</td>\n",
       "      <td>4.0</td>\n",
       "    </tr>\n",
       "    <tr>\n",
       "      <th>8505</th>\n",
       "      <td>Regular</td>\n",
       "      <td>FDS34</td>\n",
       "      <td>Snack Foods</td>\n",
       "      <td>1998</td>\n",
       "      <td>OUT027</td>\n",
       "      <td>Tier 3</td>\n",
       "      <td>Medium</td>\n",
       "      <td>Supermarket Type3</td>\n",
       "      <td>0.076387</td>\n",
       "      <td>NaN</td>\n",
       "      <td>112.1518</td>\n",
       "      <td>4.0</td>\n",
       "    </tr>\n",
       "    <tr>\n",
       "      <th>8506</th>\n",
       "      <td>Regular</td>\n",
       "      <td>FDU09</td>\n",
       "      <td>Snack Foods</td>\n",
       "      <td>1998</td>\n",
       "      <td>OUT027</td>\n",
       "      <td>Tier 3</td>\n",
       "      <td>Medium</td>\n",
       "      <td>Supermarket Type3</td>\n",
       "      <td>0.066275</td>\n",
       "      <td>NaN</td>\n",
       "      <td>54.1956</td>\n",
       "      <td>4.0</td>\n",
       "    </tr>\n",
       "    <tr>\n",
       "      <th>8507</th>\n",
       "      <td>Regular</td>\n",
       "      <td>FDU33</td>\n",
       "      <td>Snack Foods</td>\n",
       "      <td>1998</td>\n",
       "      <td>OUT027</td>\n",
       "      <td>Tier 3</td>\n",
       "      <td>Medium</td>\n",
       "      <td>Supermarket Type3</td>\n",
       "      <td>0.134057</td>\n",
       "      <td>NaN</td>\n",
       "      <td>45.3402</td>\n",
       "      <td>4.0</td>\n",
       "    </tr>\n",
       "    <tr>\n",
       "      <th>8508</th>\n",
       "      <td>Regular</td>\n",
       "      <td>FDU57</td>\n",
       "      <td>Snack Foods</td>\n",
       "      <td>1998</td>\n",
       "      <td>OUT027</td>\n",
       "      <td>Tier 3</td>\n",
       "      <td>Medium</td>\n",
       "      <td>Supermarket Type3</td>\n",
       "      <td>0.089121</td>\n",
       "      <td>NaN</td>\n",
       "      <td>149.8708</td>\n",
       "      <td>4.0</td>\n",
       "    </tr>\n",
       "    <tr>\n",
       "      <th>8509</th>\n",
       "      <td>Regular</td>\n",
       "      <td>FDU58</td>\n",
       "      <td>Snack Foods</td>\n",
       "      <td>1998</td>\n",
       "      <td>OUT027</td>\n",
       "      <td>Tier 3</td>\n",
       "      <td>Medium</td>\n",
       "      <td>Supermarket Type3</td>\n",
       "      <td>0.028871</td>\n",
       "      <td>NaN</td>\n",
       "      <td>188.7898</td>\n",
       "      <td>4.0</td>\n",
       "    </tr>\n",
       "    <tr>\n",
       "      <th>8510</th>\n",
       "      <td>Regular</td>\n",
       "      <td>FDX46</td>\n",
       "      <td>Snack Foods</td>\n",
       "      <td>1998</td>\n",
       "      <td>OUT027</td>\n",
       "      <td>Tier 3</td>\n",
       "      <td>Medium</td>\n",
       "      <td>Supermarket Type3</td>\n",
       "      <td>0.057835</td>\n",
       "      <td>NaN</td>\n",
       "      <td>57.5562</td>\n",
       "      <td>4.0</td>\n",
       "    </tr>\n",
       "    <tr>\n",
       "      <th>8511</th>\n",
       "      <td>Regular</td>\n",
       "      <td>FDX57</td>\n",
       "      <td>Snack Foods</td>\n",
       "      <td>1998</td>\n",
       "      <td>OUT027</td>\n",
       "      <td>Tier 3</td>\n",
       "      <td>Medium</td>\n",
       "      <td>Supermarket Type3</td>\n",
       "      <td>0.047037</td>\n",
       "      <td>NaN</td>\n",
       "      <td>96.4068</td>\n",
       "      <td>4.0</td>\n",
       "    </tr>\n",
       "    <tr>\n",
       "      <th>8512</th>\n",
       "      <td>Regular</td>\n",
       "      <td>FDY33</td>\n",
       "      <td>Snack Foods</td>\n",
       "      <td>1998</td>\n",
       "      <td>OUT027</td>\n",
       "      <td>Tier 3</td>\n",
       "      <td>Medium</td>\n",
       "      <td>Supermarket Type3</td>\n",
       "      <td>0.096730</td>\n",
       "      <td>NaN</td>\n",
       "      <td>159.0262</td>\n",
       "      <td>4.0</td>\n",
       "    </tr>\n",
       "    <tr>\n",
       "      <th>8513</th>\n",
       "      <td>Regular</td>\n",
       "      <td>DRY23</td>\n",
       "      <td>Soft Drinks</td>\n",
       "      <td>1998</td>\n",
       "      <td>OUT027</td>\n",
       "      <td>Tier 3</td>\n",
       "      <td>Medium</td>\n",
       "      <td>Supermarket Type3</td>\n",
       "      <td>0.108568</td>\n",
       "      <td>NaN</td>\n",
       "      <td>42.9112</td>\n",
       "      <td>4.0</td>\n",
       "    </tr>\n",
       "    <tr>\n",
       "      <th>8514</th>\n",
       "      <td>low fat</td>\n",
       "      <td>FDA11</td>\n",
       "      <td>Baking Goods</td>\n",
       "      <td>1998</td>\n",
       "      <td>OUT027</td>\n",
       "      <td>Tier 3</td>\n",
       "      <td>Medium</td>\n",
       "      <td>Supermarket Type3</td>\n",
       "      <td>0.043029</td>\n",
       "      <td>NaN</td>\n",
       "      <td>94.7436</td>\n",
       "      <td>4.0</td>\n",
       "    </tr>\n",
       "    <tr>\n",
       "      <th>8515</th>\n",
       "      <td>low fat</td>\n",
       "      <td>FDK38</td>\n",
       "      <td>Canned</td>\n",
       "      <td>1998</td>\n",
       "      <td>OUT027</td>\n",
       "      <td>Tier 3</td>\n",
       "      <td>Medium</td>\n",
       "      <td>Supermarket Type3</td>\n",
       "      <td>0.053032</td>\n",
       "      <td>NaN</td>\n",
       "      <td>149.1734</td>\n",
       "      <td>4.0</td>\n",
       "    </tr>\n",
       "    <tr>\n",
       "      <th>8516</th>\n",
       "      <td>low fat</td>\n",
       "      <td>FDO38</td>\n",
       "      <td>Canned</td>\n",
       "      <td>1998</td>\n",
       "      <td>OUT027</td>\n",
       "      <td>Tier 3</td>\n",
       "      <td>Medium</td>\n",
       "      <td>Supermarket Type3</td>\n",
       "      <td>0.072486</td>\n",
       "      <td>NaN</td>\n",
       "      <td>78.9986</td>\n",
       "      <td>4.0</td>\n",
       "    </tr>\n",
       "    <tr>\n",
       "      <th>8517</th>\n",
       "      <td>low fat</td>\n",
       "      <td>FDG32</td>\n",
       "      <td>Fruits and Vegetables</td>\n",
       "      <td>1998</td>\n",
       "      <td>OUT027</td>\n",
       "      <td>Tier 3</td>\n",
       "      <td>Medium</td>\n",
       "      <td>Supermarket Type3</td>\n",
       "      <td>0.175143</td>\n",
       "      <td>NaN</td>\n",
       "      <td>222.3772</td>\n",
       "      <td>4.0</td>\n",
       "    </tr>\n",
       "    <tr>\n",
       "      <th>8518</th>\n",
       "      <td>low fat</td>\n",
       "      <td>NCT53</td>\n",
       "      <td>Health and Hygiene</td>\n",
       "      <td>1998</td>\n",
       "      <td>OUT027</td>\n",
       "      <td>Tier 3</td>\n",
       "      <td>Medium</td>\n",
       "      <td>Supermarket Type3</td>\n",
       "      <td>0.000000</td>\n",
       "      <td>NaN</td>\n",
       "      <td>164.5526</td>\n",
       "      <td>4.0</td>\n",
       "    </tr>\n",
       "    <tr>\n",
       "      <th>8519</th>\n",
       "      <td>low fat</td>\n",
       "      <td>FDN09</td>\n",
       "      <td>Snack Foods</td>\n",
       "      <td>1998</td>\n",
       "      <td>OUT027</td>\n",
       "      <td>Tier 3</td>\n",
       "      <td>Medium</td>\n",
       "      <td>Supermarket Type3</td>\n",
       "      <td>0.034706</td>\n",
       "      <td>NaN</td>\n",
       "      <td>241.6828</td>\n",
       "      <td>4.0</td>\n",
       "    </tr>\n",
       "    <tr>\n",
       "      <th>8520</th>\n",
       "      <td>low fat</td>\n",
       "      <td>DRE13</td>\n",
       "      <td>Soft Drinks</td>\n",
       "      <td>1998</td>\n",
       "      <td>OUT027</td>\n",
       "      <td>Tier 3</td>\n",
       "      <td>Medium</td>\n",
       "      <td>Supermarket Type3</td>\n",
       "      <td>0.027571</td>\n",
       "      <td>NaN</td>\n",
       "      <td>86.6198</td>\n",
       "      <td>4.0</td>\n",
       "    </tr>\n",
       "    <tr>\n",
       "      <th>8521</th>\n",
       "      <td>reg</td>\n",
       "      <td>FDT50</td>\n",
       "      <td>Dairy</td>\n",
       "      <td>1998</td>\n",
       "      <td>OUT027</td>\n",
       "      <td>Tier 3</td>\n",
       "      <td>Medium</td>\n",
       "      <td>Supermarket Type3</td>\n",
       "      <td>0.107715</td>\n",
       "      <td>NaN</td>\n",
       "      <td>97.8752</td>\n",
       "      <td>4.0</td>\n",
       "    </tr>\n",
       "    <tr>\n",
       "      <th>8522</th>\n",
       "      <td>reg</td>\n",
       "      <td>FDM58</td>\n",
       "      <td>Snack Foods</td>\n",
       "      <td>1998</td>\n",
       "      <td>OUT027</td>\n",
       "      <td>Tier 3</td>\n",
       "      <td>Medium</td>\n",
       "      <td>Supermarket Type3</td>\n",
       "      <td>0.000000</td>\n",
       "      <td>NaN</td>\n",
       "      <td>112.2544</td>\n",
       "      <td>4.0</td>\n",
       "    </tr>\n",
       "  </tbody>\n",
       "</table>\n",
       "</div>"
      ],
      "text/plain": [
       "     Item Fat Content Item Identifier              Item Type  \\\n",
       "8503          Regular           FDR22            Snack Foods   \n",
       "8504          Regular           FDS09            Snack Foods   \n",
       "8505          Regular           FDS34            Snack Foods   \n",
       "8506          Regular           FDU09            Snack Foods   \n",
       "8507          Regular           FDU33            Snack Foods   \n",
       "8508          Regular           FDU57            Snack Foods   \n",
       "8509          Regular           FDU58            Snack Foods   \n",
       "8510          Regular           FDX46            Snack Foods   \n",
       "8511          Regular           FDX57            Snack Foods   \n",
       "8512          Regular           FDY33            Snack Foods   \n",
       "8513          Regular           DRY23            Soft Drinks   \n",
       "8514          low fat           FDA11           Baking Goods   \n",
       "8515          low fat           FDK38                 Canned   \n",
       "8516          low fat           FDO38                 Canned   \n",
       "8517          low fat           FDG32  Fruits and Vegetables   \n",
       "8518          low fat           NCT53     Health and Hygiene   \n",
       "8519          low fat           FDN09            Snack Foods   \n",
       "8520          low fat           DRE13            Soft Drinks   \n",
       "8521              reg           FDT50                  Dairy   \n",
       "8522              reg           FDM58            Snack Foods   \n",
       "\n",
       "      Outlet Establishment Year Outlet Identifier Outlet Location Type  \\\n",
       "8503                       1998            OUT027               Tier 3   \n",
       "8504                       1998            OUT027               Tier 3   \n",
       "8505                       1998            OUT027               Tier 3   \n",
       "8506                       1998            OUT027               Tier 3   \n",
       "8507                       1998            OUT027               Tier 3   \n",
       "8508                       1998            OUT027               Tier 3   \n",
       "8509                       1998            OUT027               Tier 3   \n",
       "8510                       1998            OUT027               Tier 3   \n",
       "8511                       1998            OUT027               Tier 3   \n",
       "8512                       1998            OUT027               Tier 3   \n",
       "8513                       1998            OUT027               Tier 3   \n",
       "8514                       1998            OUT027               Tier 3   \n",
       "8515                       1998            OUT027               Tier 3   \n",
       "8516                       1998            OUT027               Tier 3   \n",
       "8517                       1998            OUT027               Tier 3   \n",
       "8518                       1998            OUT027               Tier 3   \n",
       "8519                       1998            OUT027               Tier 3   \n",
       "8520                       1998            OUT027               Tier 3   \n",
       "8521                       1998            OUT027               Tier 3   \n",
       "8522                       1998            OUT027               Tier 3   \n",
       "\n",
       "     Outlet Size        Outlet Type  Item Visibility  Item Weight     Sales  \\\n",
       "8503      Medium  Supermarket Type3         0.018473          NaN  109.9544   \n",
       "8504      Medium  Supermarket Type3         0.080696          NaN   51.3008   \n",
       "8505      Medium  Supermarket Type3         0.076387          NaN  112.1518   \n",
       "8506      Medium  Supermarket Type3         0.066275          NaN   54.1956   \n",
       "8507      Medium  Supermarket Type3         0.134057          NaN   45.3402   \n",
       "8508      Medium  Supermarket Type3         0.089121          NaN  149.8708   \n",
       "8509      Medium  Supermarket Type3         0.028871          NaN  188.7898   \n",
       "8510      Medium  Supermarket Type3         0.057835          NaN   57.5562   \n",
       "8511      Medium  Supermarket Type3         0.047037          NaN   96.4068   \n",
       "8512      Medium  Supermarket Type3         0.096730          NaN  159.0262   \n",
       "8513      Medium  Supermarket Type3         0.108568          NaN   42.9112   \n",
       "8514      Medium  Supermarket Type3         0.043029          NaN   94.7436   \n",
       "8515      Medium  Supermarket Type3         0.053032          NaN  149.1734   \n",
       "8516      Medium  Supermarket Type3         0.072486          NaN   78.9986   \n",
       "8517      Medium  Supermarket Type3         0.175143          NaN  222.3772   \n",
       "8518      Medium  Supermarket Type3         0.000000          NaN  164.5526   \n",
       "8519      Medium  Supermarket Type3         0.034706          NaN  241.6828   \n",
       "8520      Medium  Supermarket Type3         0.027571          NaN   86.6198   \n",
       "8521      Medium  Supermarket Type3         0.107715          NaN   97.8752   \n",
       "8522      Medium  Supermarket Type3         0.000000          NaN  112.2544   \n",
       "\n",
       "      Rating  \n",
       "8503     4.0  \n",
       "8504     4.0  \n",
       "8505     4.0  \n",
       "8506     4.0  \n",
       "8507     4.0  \n",
       "8508     4.0  \n",
       "8509     4.0  \n",
       "8510     4.0  \n",
       "8511     4.0  \n",
       "8512     4.0  \n",
       "8513     4.0  \n",
       "8514     4.0  \n",
       "8515     4.0  \n",
       "8516     4.0  \n",
       "8517     4.0  \n",
       "8518     4.0  \n",
       "8519     4.0  \n",
       "8520     4.0  \n",
       "8521     4.0  \n",
       "8522     4.0  "
      ]
     },
     "execution_count": 4,
     "metadata": {},
     "output_type": "execute_result"
    }
   ],
   "source": [
    "df.tail(20)"
   ]
  },
  {
   "cell_type": "markdown",
   "id": "6030e75c-af7b-42a8-b853-bbeb85eff4ad",
   "metadata": {},
   "source": [
    "#### **Size of Data**"
   ]
  },
  {
   "cell_type": "code",
   "execution_count": 5,
   "id": "54ec81f8-c6c3-41cf-9cca-548b75979b75",
   "metadata": {},
   "outputs": [
    {
     "name": "stdout",
     "output_type": "stream",
     "text": [
      "Size of Data: (8523, 12)\n"
     ]
    }
   ],
   "source": [
    "print(\"Size of Data:\",df.shape)"
   ]
  },
  {
   "cell_type": "markdown",
   "id": "6582ec25-d71a-4778-bd1e-3e474c10091d",
   "metadata": {},
   "source": [
    "#### **Field Info**"
   ]
  },
  {
   "cell_type": "code",
   "execution_count": 6,
   "id": "44b17511-56e9-4d29-9cff-3c85acce3bdb",
   "metadata": {},
   "outputs": [
    {
     "data": {
      "text/plain": [
       "Index(['Item Fat Content', 'Item Identifier', 'Item Type',\n",
       "       'Outlet Establishment Year', 'Outlet Identifier',\n",
       "       'Outlet Location Type', 'Outlet Size', 'Outlet Type', 'Item Visibility',\n",
       "       'Item Weight', 'Sales', 'Rating'],\n",
       "      dtype='object')"
      ]
     },
     "execution_count": 6,
     "metadata": {},
     "output_type": "execute_result"
    }
   ],
   "source": [
    "df.columns"
   ]
  },
  {
   "cell_type": "markdown",
   "id": "166982ce-fdb7-4344-8f25-a0e3abec5b09",
   "metadata": {},
   "source": [
    "#### **Field Data types**"
   ]
  },
  {
   "cell_type": "code",
   "execution_count": 7,
   "id": "e6fc0eb0-c438-42e4-8c61-4df031489c74",
   "metadata": {},
   "outputs": [
    {
     "data": {
      "text/plain": [
       "Item Fat Content              object\n",
       "Item Identifier               object\n",
       "Item Type                     object\n",
       "Outlet Establishment Year      int64\n",
       "Outlet Identifier             object\n",
       "Outlet Location Type          object\n",
       "Outlet Size                   object\n",
       "Outlet Type                   object\n",
       "Item Visibility              float64\n",
       "Item Weight                  float64\n",
       "Sales                        float64\n",
       "Rating                       float64\n",
       "dtype: object"
      ]
     },
     "execution_count": 7,
     "metadata": {},
     "output_type": "execute_result"
    }
   ],
   "source": [
    "df.dtypes"
   ]
  },
  {
   "cell_type": "markdown",
   "id": "db3fc214-ac56-4a3a-b58f-f831bc60a42b",
   "metadata": {},
   "source": [
    "#### **Data Cleaning**"
   ]
  },
  {
   "cell_type": "code",
   "execution_count": 8,
   "id": "4a774894-1ca0-4976-a995-8b48f5ada884",
   "metadata": {},
   "outputs": [
    {
     "name": "stdout",
     "output_type": "stream",
     "text": [
      "['Regular' 'Low Fat' 'low fat' 'LF' 'reg']\n"
     ]
    }
   ],
   "source": [
    "print(df['Item Fat Content'].unique())"
   ]
  },
  {
   "cell_type": "code",
   "execution_count": 9,
   "id": "31c828ed-31f0-4b70-b19e-17872317ede7",
   "metadata": {},
   "outputs": [],
   "source": [
    "df['Item Fat Content'] = df['Item Fat Content'].replace({'LF':'Low Fat','low fat':'Low Fat','reg':'Regular'})"
   ]
  },
  {
   "cell_type": "code",
   "execution_count": 10,
   "id": "e21122a5-e84f-47da-bb1d-2b47d3251cfc",
   "metadata": {},
   "outputs": [
    {
     "name": "stdout",
     "output_type": "stream",
     "text": [
      "['Regular' 'Low Fat']\n"
     ]
    }
   ],
   "source": [
    "print(df['Item Fat Content'].unique())"
   ]
  },
  {
   "cell_type": "markdown",
   "id": "fe1ee204-17e7-4131-96a6-c14692be0455",
   "metadata": {},
   "source": [
    "#### **BUSINESS REQUIREMENT**"
   ]
  },
  {
   "cell_type": "markdown",
   "id": "151d292e-db2f-4212-8994-55170cca0c53",
   "metadata": {},
   "source": [
    "#### **KPI's REQUIREMENT**"
   ]
  },
  {
   "cell_type": "code",
   "execution_count": 11,
   "id": "b63ec1f2-328e-4ef0-8608-728f64a07af1",
   "metadata": {},
   "outputs": [
    {
     "name": "stdout",
     "output_type": "stream",
     "text": [
      "Total sales: $1,201,681\n",
      "Average sales: $141\n",
      "No.of item sold: 8,523\n",
      "Average Ratings: 4.0\n"
     ]
    }
   ],
   "source": [
    "# Total Sales\n",
    "total_sales = df['Sales'].sum()\n",
    "\n",
    "# Average Sales\n",
    "avg_sales = df['Sales'].mean()\n",
    "\n",
    "#Number of item sold\n",
    "no_of_items_sold = df['Sales'].count()\n",
    "\n",
    "#Average Ratings\n",
    "avg_rating = df['Rating'].mean()\n",
    "\n",
    "#Display\n",
    "\n",
    "print(f\"Total sales: ${total_sales:,.0f}\")\n",
    "print(f\"Average sales: ${avg_sales:,.0f}\")\n",
    "print(f\"No.of item sold: {no_of_items_sold:,.0f}\")\n",
    "print(f\"Average Ratings: {avg_rating:,.1f}\")"
   ]
  },
  {
   "cell_type": "markdown",
   "id": "13988d53-8da0-47a6-9fe2-30270f257166",
   "metadata": {},
   "source": [
    "### **CHARTS REQUIREMENT**\n"
   ]
  },
  {
   "cell_type": "markdown",
   "id": "21794b25-c21c-41e0-9188-ca141473f1b8",
   "metadata": {},
   "source": [
    "#### **Total Sales by Fat Content**"
   ]
  },
  {
   "cell_type": "code",
   "execution_count": 12,
   "id": "f399178f-2788-45a5-9fad-7e8321cb6c1d",
   "metadata": {},
   "outputs": [
    {
     "data": {
      "image/png": "[encoded data removed]",
      "text/plain": [
       "<Figure size 640x480 with 1 Axes>"
      ]
     },
     "metadata": {},
     "output_type": "display_data"
    }
   ],
   "source": [
    "Sales_by_fat = df.groupby('Item Fat Content')['Sales'].sum()\n",
    "\n",
    "plt.pie(Sales_by_fat, labels= Sales_by_fat.index,\n",
    "                        autopct = '%.1f%%',\n",
    "                        startangle = 90)\n",
    "plt.title('Sales by fat content')\n",
    "plt.axis('equal')\n",
    "plt.show()"
   ]
  },
  {
   "cell_type": "markdown",
   "id": "7e5f649d-8934-4e60-b104-5c16643eac3c",
   "metadata": {},
   "source": [
    "#### **Total sales by item types**"
   ]
  },
  {
   "cell_type": "code",
   "execution_count": 13,
   "id": "482874fd-c7cf-4836-95a4-da906f25a140",
   "metadata": {},
   "outputs": [
    {
     "data": {
      "image/png": "[encoded data removed]",
      "text/plain": [
       "<Figure size 1000x600 with 1 Axes>"
      ]
     },
     "metadata": {},
     "output_type": "display_data"
    }
   ],
   "source": [
    "sales_by_type = df.groupby('Item Type')['Sales'].sum().sort_values(ascending=False)\n",
    "\n",
    "plt.figure(figsize=(10,6))\n",
    "bars = plt.bar(sales_by_type.index,sales_by_type.values)\n",
    "\n",
    "plt.xticks(rotation=90)\n",
    "plt.xlabel('Item Type')\n",
    "plt.ylabel('Total Sales')\n",
    "plt.title('Total sales by Item Type')\n",
    "\n",
    "plt.tight_layout()\n",
    "plt.show()\n"
   ]
  },
  {
   "cell_type": "markdown",
   "id": "53018eb1-5775-41d3-b73f-259d695dfa5d",
   "metadata": {},
   "source": [
    "#### **Total Sales by outlet Establishment**"
   ]
  },
  {
   "cell_type": "code",
   "execution_count": 15,
   "id": "b0168600-685d-4ed0-9e8c-fb0ac4733bf2",
   "metadata": {},
   "outputs": [
    {
     "data": {
      "image/png": "[encoded data removed]",
      "text/plain": [
       "<Figure size 900x500 with 1 Axes>"
      ]
     },
     "metadata": {},
     "output_type": "display_data"
    }
   ],
   "source": [
    "sales_by_year = df.groupby('Outlet Establishment Year')['Sales'].sum().sort_index()\n",
    "\n",
    "plt.figure(figsize=(9,5))\n",
    "plt.plot(sales_by_year.index, sales_by_year.values,marker='o',linestyle='-')\n",
    "\n",
    "plt.xlabel('Outlet Establishment Year')\n",
    "plt.ylabel('Total Sales')\n",
    "plt.title('outlet Establishment')\n",
    "\n",
    "plt.tight_layout()\n",
    "plt.show()"
   ]
  },
  {
   "cell_type": "markdown",
   "id": "77035710-7015-4edf-b859-2c8b6d9c27db",
   "metadata": {},
   "source": [
    "#### **Sales by outlet size**"
   ]
  },
  {
   "cell_type": "code",
   "execution_count": 16,
   "id": "b6168d2c-e665-433b-b063-003c36962a14",
   "metadata": {},
   "outputs": [
    {
     "data": {
      "image/png": "[encoded data removed]",
      "text/plain": [
       "<Figure size 400x400 with 1 Axes>"
      ]
     },
     "metadata": {},
     "output_type": "display_data"
    }
   ],
   "source": [
    "sales_by_size = df.groupby('Outlet Size')['Sales'].sum()\n",
    "\n",
    "plt.figure(figsize=(4,4))\n",
    "plt.pie(sales_by_size,labels=sales_by_size.index,autopct='%1.1f%%',startangle=90)\n",
    "plt.title('Outlet Size')\n",
    "plt.tight_layout()\n",
    "plt.show()"
   ]
  },
  {
   "cell_type": "markdown",
   "id": "a05735c6-d23f-4e02-88cf-8680ff1e5191",
   "metadata": {},
   "source": [
    "#### **Sales by outlet Location**"
   ]
  },
  {
   "cell_type": "code",
   "execution_count": 17,
   "id": "fc659bd6-9e3e-4723-b788-2f5c499367bb",
   "metadata": {},
   "outputs": [
    {
     "data": {
      "image/png": "[encoded data removed]",
      "text/plain": [
       "<Figure size 800x500 with 1 Axes>"
      ]
     },
     "metadata": {},
     "output_type": "display_data"
    }
   ],
   "source": [
    "sales_by_location =df.groupby('Outlet Location Type')['Sales'].sum().reset_index()\n",
    "sales_by_location = sales_by_location.sort_values('Sales',ascending=False)\n",
    "\n",
    "plt.figure(figsize=(8,5))\n",
    "ax = sns.barplot(x='Sales',y='Outlet Location Type',data=sales_by_location)\n",
    "\n",
    "plt.title('Title sales by Outet Location Type')\n",
    "plt.xlabel('Total sales')\n",
    "plt.ylabel('Outlet Location Type')\n",
    "\n",
    "\n",
    "plt.tight_layout()\n",
    "plt.show()"
   ]
  }
 ],
 "metadata": {
  "kernelspec": {
   "display_name": "Python 3 (ipykernel)",
   "language": "python",
   "name": "python3"
  },
  "language_info": {
   "codemirror_mode": {
    "name": "ipython",
    "version": 3
   },
   "file_extension": ".py",
   "mimetype": "text/x-python",
   "name": "python",
   "nbconvert_exporter": "python",
   "pygments_lexer": "ipython3",
   "version": "3.13.1"
  }
 },
 "nbformat": 4,
 "nbformat_minor": 5
}
